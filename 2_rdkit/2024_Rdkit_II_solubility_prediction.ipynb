{
 "cells": [
  {
   "cell_type": "markdown",
   "metadata": {
    "id": "VrUQnEXXvf2o"
   },
   "source": [
    "# Install rdkit\n",
    "\n",
    "using pypi or whatever install rdkit\n"
   ]
  },
  {
   "cell_type": "code",
   "execution_count": 12,
   "metadata": {
    "ExecuteTime": {
     "end_time": "2024-09-30T14:06:11.191791Z",
     "start_time": "2024-09-30T14:06:11.187050Z"
    },
    "id": "9qJCFDsxp3wJ"
   },
   "outputs": [],
   "source": [
    "# conda install -c conda-forge rdkit"
   ]
  },
  {
   "cell_type": "markdown",
   "metadata": {
    "id": "TYs-WClCqSsy"
   },
   "source": [
    "## Ex 1. Read molecules from SMILES\n",
    "\n",
    "SMILES (Simplified Molecular-Input Line-Entry System) is a popular method for specifying molecules with text string. The RDkit library provides utilities to read molecules from SMILES.\n",
    "\n",
    "\n",
    "Paracetamol (Acetaminophen) is a commonly used medicine that can help treat pain and reduce a high temperature. It's given by the chemical formula $ C_8H_9N O_2$ and its SMILES is \"CC(=O)NC1=CC=C(O)C=C1\".\n",
    "\n",
    "\n",
    "1. Create the paracetamol molecule from its SMILES using the rdkit.Chem.MolFromSmiles class.\n",
    "\n",
    "\n",
    "2. Visualize its structure (it's sufficient to print the paracetamol molecule or to use rdkit.Chem.Draw.MolToImage())\n",
    "\n",
    "\n",
    "3. Print out the number of atoms. Did you get 11 ? It should be 20 atoms ? Why ?\n",
    "\n",
    "\n",
    "\n",
    "4. Print out the list of atoms.\n",
    "\n",
    "\n",
    "5. Find the number of bonds.\n",
    "\n"
   ]
  },
  {
   "cell_type": "code",
   "execution_count": 1,
   "metadata": {
    "ExecuteTime": {
     "end_time": "2024-09-30T14:09:25.329683Z",
     "start_time": "2024-09-30T14:09:24.718962Z"
    },
    "id": "ccbbFmLOqDJV"
   },
   "outputs": [
    {
     "name": "stdout",
     "output_type": "stream",
     "text": [
      "11 atoms\n",
      "['C', 'C', 'O', 'N', 'C', 'C', 'C', 'C', 'O', 'C', 'C']\n",
      "11 bonds\n"
     ]
    }
   ],
   "source": [
    "from rdkit.Chem import MolFromSmiles\n",
    "from rdkit.Chem import Draw\n",
    "import rdkit.Chem as Chem\n",
    "\n",
    "# 1. Create the paracetamol molecule from its SMILES\n",
    "paracetamol_smile = \"CC(=O)NC1=CC=C(O)C=C1\"\n",
    "paracetamol = MolFromSmiles(paracetamol_smile)\n",
    "# 2.\n",
    "Draw.MolToImage(paracetamol)\n",
    "# 3.\n",
    "print(paracetamol.GetNumAtoms(), \"atoms\")\n",
    "# Hydrogen atoms are not shown in the visualization and not counted in the number of atoms\n",
    "# 4.\n",
    "print([atom.GetSymbol() for atom in paracetamol.GetAtoms()])\n",
    "# 5.\n",
    "print(paracetamol.GetNumBonds(), \"bonds\")"
   ]
  },
  {
   "cell_type": "markdown",
   "metadata": {
    "id": "5ch4vabFuReu"
   },
   "source": [
    "## Ex 2 Read data from chemical file format\n",
    "\n",
    "Apart SMILES, .SDF/ .Mol are also the common formats to save molecules. RDKit provides also functionalities to read these files.\n",
    "\n",
    "\n",
    "Morphine is an opioid agonist used for the relief of moderate to severe acute and chronic pain. The chemical information of this drug can be found at\n",
    "the following url: https://go.drugbank.com/structures/small_molecule_drugs/DB00295.sdf\n",
    "\n",
    "\n",
    "1. Download this file and save it in a folder.\n",
    "\n",
    "\n",
    "2. Read the morphine molecule from the file that you've downloaded using \"rdkit.Chem.SDMolSupplier\"\n",
    "\n",
    "\n",
    "3. With the help of rdkit.Chem.AllChem.GetMorganFingerprintAsBitVect, compute its fingerprint as a bit vector."
   ]
  },
  {
   "cell_type": "code",
   "execution_count": 2,
   "metadata": {
    "ExecuteTime": {
     "end_time": "2024-09-30T14:10:22.116435Z",
     "start_time": "2024-09-30T14:10:22.102557Z"
    },
    "id": "9VLF599Yv5V1"
   },
   "outputs": [
    {
     "name": "stderr",
     "output_type": "stream",
     "text": [
      "[21:37:47] DEPRECATION WARNING: please use MorganGenerator\n"
     ]
    },
    {
     "data": {
      "text/plain": [
       "<rdkit.DataStructs.cDataStructs.ExplicitBitVect at 0x741740141770>"
      ]
     },
     "execution_count": 2,
     "metadata": {},
     "output_type": "execute_result"
    }
   ],
   "source": [
    "from rdkit.Chem import SDMolSupplier\n",
    "from rdkit.Chem import AllChem\n",
    "# 2\n",
    "suppl = SDMolSupplier(\"DB00295.sdf\")\n",
    "morphine = suppl[0]\n",
    "# 3\n",
    "fp = AllChem.GetMorganFingerprintAsBitVect(morphine, 2)\n",
    "fp"
   ]
  },
  {
   "cell_type": "markdown",
   "metadata": {
    "id": "gljbmF6p3RX8"
   },
   "source": [
    "## EX3. Fingerprints\n",
    "\n",
    "\n",
    "A chemical structure can be characterized by a set of numerical values known as molecular fingerprints. They may be 2D Fragment-based fingerprints presented by bit arrays of 0s and 1s wherein each bit position indicates the presence or absence of structural fragments.\n",
    "\n",
    "\n",
    "The RDKit has a variety of built-in functionality for generating molecular fingerprints and then using them to calculate molecular similarity. In this exercise, we will generate the fingerprints for parcetamol and aspirin that are two popular drugs used for pains.\n",
    "\n",
    "\n",
    "\n",
    "1. Compute the fingerprint of the paracetamol as bit vector by using the rdkit.AllChem.GetMorganFingerprintAsBitVectCompute Class. Convert it to a numpy vector. Known that Paracetamol's SMILES is \"\"CC(=O)OC1=CC=CC=C1C(O)=O\". Choose the number of bits nBits= 1024. Find the elements that are nonzero of the vector.\n",
    "\n",
    "2. Do the same thing for the aspirin. Aspirin's SMILES is \"CC(=O)NC1=CC=C(O)C=C1\".\n",
    "\n",
    "\n",
    "\n",
    "3. Using rdkit.DataStructs.DiceSimilarity(), compute the DiceSimilarity between the fingerprints of the paracetamol and the aspirin."
   ]
  },
  {
   "cell_type": "code",
   "execution_count": 3,
   "metadata": {
    "ExecuteTime": {
     "end_time": "2024-09-30T14:15:49.854745Z",
     "start_time": "2024-09-30T14:15:49.843734Z"
    },
    "id": "8PALjOz5232Z"
   },
   "outputs": [
    {
     "data": {
      "text/plain": [
       "0.4307692307692308"
      ]
     },
     "execution_count": 3,
     "metadata": {},
     "output_type": "execute_result"
    }
   ],
   "source": [
    "import numpy as np\n",
    "from rdkit import DataStructs\n",
    "from rdkit.DataStructs import DiceSimilarity\n",
    "\n",
    "def smiles_to_np_morganfingerprinting(smile):\n",
    "    mol = MolFromSmiles(smile)\n",
    "    fpgen = AllChem.GetMorganGenerator(radius=2)\n",
    "    fp = fpgen.GetSparseCountFingerprint(mol)\n",
    "    return fp\n",
    "\n",
    "# 1\n",
    "paracetamol_smile = \"CC(=O)NC1=CC=C(O)C=C1\"\n",
    "paracetamol_fp = smiles_to_np_morganfingerprinting(paracetamol_smile)\n",
    "\n",
    "# 2\n",
    "aspirin_smile = \"CC(=O)OC1=CC=CC=C1C(O)=O\"\n",
    "aspirin_fp = smiles_to_np_morganfingerprinting(aspirin_smile)\n",
    "\n",
    "# 3\n",
    "DiceSimilarity(aspirin_fp, paracetamol_fp)"
   ]
  },
  {
   "cell_type": "markdown",
   "metadata": {
    "id": "GZXsjZGw3ofC"
   },
   "source": [
    "## EX 4: Descriptors\n",
    "\n",
    "Molecules are also described by a set of physiochemical descriptors. They should be the log partition coefficient, the polar surface area ... that describe the molecule's structure.\n",
    "\n",
    "\n",
    "RDKit provides utilities that allow us to compute descriptor of molecules.\n",
    "Using the rdkit.ML.Descriptors.MoleculeDescriptors.MolecularDescriptorCalculator class, compute the descriptor for paracetamol molecule from SMILES string. Note that SMILES string for paracetamol is \"CC(=O)NC1=CC=C(O)C=C1\"\n",
    "\n"
   ]
  },
  {
   "cell_type": "code",
   "execution_count": 4,
   "metadata": {
    "id": "vQcACF5K3l1y"
   },
   "outputs": [
    {
     "data": {
      "text/plain": [
       "{'MaxAbsEStateIndex': 10.524468537414966,\n",
       " 'MaxEStateIndex': 10.524468537414966,\n",
       " 'MinAbsEStateIndex': 0.11510204081632636,\n",
       " 'MinEStateIndex': -0.11510204081632636,\n",
       " 'qed': 0.5950261967780849,\n",
       " 'SPS': 9.181818181818182,\n",
       " 'MolWt': 151.165,\n",
       " 'HeavyAtomMolWt': 142.093,\n",
       " 'ExactMolWt': 151.063328528,\n",
       " 'NumValenceElectrons': 58,\n",
       " 'NumRadicalElectrons': 0,\n",
       " 'MaxPartialCharge': 0.22074743631242583,\n",
       " 'MinPartialCharge': -0.5079643157925783,\n",
       " 'MaxAbsPartialCharge': 0.5079643157925783,\n",
       " 'MinAbsPartialCharge': 0.22074743631242583,\n",
       " 'FpDensityMorgan1': 1.3636363636363635,\n",
       " 'FpDensityMorgan2': 1.9090909090909092,\n",
       " 'FpDensityMorgan3': 2.3636363636363638,\n",
       " 'BCUT2D_MWHI': 16.25468871437965,\n",
       " 'BCUT2D_MWLOW': 10.280190859964755,\n",
       " 'BCUT2D_CHGHI': 1.9280360590359853,\n",
       " 'BCUT2D_CHGLO': -1.9945540738765868,\n",
       " 'BCUT2D_LOGPHI': 2.12524757916018,\n",
       " 'BCUT2D_LOGPLOW': -2.04401131261029,\n",
       " 'BCUT2D_MRHI': 5.88095478459792,\n",
       " 'BCUT2D_MRLOW': -0.11373578338266109,\n",
       " 'AvgIpc': 1.9291266251851134,\n",
       " 'BalabanJ': 2.7362980721056545,\n",
       " 'BertzCT': 253.29949758389105,\n",
       " 'Chi0': 8.267584713501616,\n",
       " 'Chi0n': 6.164862962722325,\n",
       " 'Chi0v': 6.164862962722325,\n",
       " 'Chi1': 5.1815405503520555,\n",
       " 'Chi1n': 3.2490981480278296,\n",
       " 'Chi1v': 3.2490981480278296,\n",
       " 'Chi2n': 2.228060242189872,\n",
       " 'Chi2v': 2.228060242189872,\n",
       " 'Chi3n': 1.1876733148984595,\n",
       " 'Chi3v': 1.1876733148984595,\n",
       " 'Chi4n': 0.7480265991539318,\n",
       " 'Chi4v': 0.7480265991539318,\n",
       " 'HallKierAlpha': -1.5099999999999998,\n",
       " 'Ipc': 285.51074052739676,\n",
       " 'Kappa1': 7.595374077976819,\n",
       " 'Kappa2': 3.0531381005525,\n",
       " 'Kappa3': 2.292303972882069,\n",
       " 'LabuteASA': 64.66690538413799,\n",
       " 'PEOE_VSA1': 10.423315998847038,\n",
       " 'PEOE_VSA10': 5.749511833283905,\n",
       " 'PEOE_VSA11': 0.0,\n",
       " 'PEOE_VSA12': 5.907179729351506,\n",
       " 'PEOE_VSA13': 0.0,\n",
       " 'PEOE_VSA14': 0.0,\n",
       " 'PEOE_VSA2': 4.794537184071822,\n",
       " 'PEOE_VSA3': 0.0,\n",
       " 'PEOE_VSA4': 0.0,\n",
       " 'PEOE_VSA5': 0.0,\n",
       " 'PEOE_VSA6': 0.0,\n",
       " 'PEOE_VSA7': 24.26546827384644,\n",
       " 'PEOE_VSA8': 12.611123474374185,\n",
       " 'PEOE_VSA9': 0.0,\n",
       " 'SMR_VSA1': 9.901064578912528,\n",
       " 'SMR_VSA10': 11.594566004035068,\n",
       " 'SMR_VSA2': 0.0,\n",
       " 'SMR_VSA3': 0.0,\n",
       " 'SMR_VSA4': 0.0,\n",
       " 'SMR_VSA5': 6.923737199690624,\n",
       " 'SMR_VSA6': 5.316788604006331,\n",
       " 'SMR_VSA7': 24.26546827384644,\n",
       " 'SMR_VSA8': 0.0,\n",
       " 'SMR_VSA9': 5.749511833283905,\n",
       " 'SlogP_VSA1': 5.316788604006331,\n",
       " 'SlogP_VSA10': 5.687386274683562,\n",
       " 'SlogP_VSA11': 5.749511833283905,\n",
       " 'SlogP_VSA12': 0.0,\n",
       " 'SlogP_VSA2': 11.013707124192212,\n",
       " 'SlogP_VSA3': 4.794537184071822,\n",
       " 'SlogP_VSA4': 0.0,\n",
       " 'SlogP_VSA5': 6.923737199690624,\n",
       " 'SlogP_VSA6': 24.26546827384644,\n",
       " 'SlogP_VSA7': 0.0,\n",
       " 'SlogP_VSA8': 0.0,\n",
       " 'SlogP_VSA9': 0.0,\n",
       " 'TPSA': 49.33,\n",
       " 'EState_VSA1': 0.0,\n",
       " 'EState_VSA10': 4.794537184071822,\n",
       " 'EState_VSA11': 0.0,\n",
       " 'EState_VSA2': 11.65669156263541,\n",
       " 'EState_VSA3': 5.687386274683562,\n",
       " 'EState_VSA4': 0.0,\n",
       " 'EState_VSA5': 19.056471336613843,\n",
       " 'EState_VSA6': 12.13273413692322,\n",
       " 'EState_VSA7': 0.0,\n",
       " 'EState_VSA8': 5.316788604006331,\n",
       " 'EState_VSA9': 5.106527394840706,\n",
       " 'VSA_EState1': 0.0,\n",
       " 'VSA_EState10': 0.0,\n",
       " 'VSA_EState2': 10.524468537414966,\n",
       " 'VSA_EState3': 11.460032596371882,\n",
       " 'VSA_EState4': 0.6900925925925929,\n",
       " 'VSA_EState5': 0.07851095993953194,\n",
       " 'VSA_EState6': 6.309537037037037,\n",
       " 'VSA_EState7': 0.0,\n",
       " 'VSA_EState8': 1.437358276643991,\n",
       " 'VSA_EState9': 0.0,\n",
       " 'FractionCSP3': 0.125,\n",
       " 'HeavyAtomCount': 11,\n",
       " 'NHOHCount': 2,\n",
       " 'NOCount': 3,\n",
       " 'NumAliphaticCarbocycles': 0,\n",
       " 'NumAliphaticHeterocycles': 0,\n",
       " 'NumAliphaticRings': 0,\n",
       " 'NumAromaticCarbocycles': 1,\n",
       " 'NumAromaticHeterocycles': 0,\n",
       " 'NumAromaticRings': 1,\n",
       " 'NumHAcceptors': 2,\n",
       " 'NumHDonors': 2,\n",
       " 'NumHeteroatoms': 3,\n",
       " 'NumRotatableBonds': 1,\n",
       " 'NumSaturatedCarbocycles': 0,\n",
       " 'NumSaturatedHeterocycles': 0,\n",
       " 'NumSaturatedRings': 0,\n",
       " 'RingCount': 1,\n",
       " 'MolLogP': 1.3505999999999998,\n",
       " 'MolMR': 42.41050000000002,\n",
       " 'fr_Al_COO': 0,\n",
       " 'fr_Al_OH': 0,\n",
       " 'fr_Al_OH_noTert': 0,\n",
       " 'fr_ArN': 0,\n",
       " 'fr_Ar_COO': 0,\n",
       " 'fr_Ar_N': 0,\n",
       " 'fr_Ar_NH': 0,\n",
       " 'fr_Ar_OH': 1,\n",
       " 'fr_COO': 0,\n",
       " 'fr_COO2': 0,\n",
       " 'fr_C_O': 1,\n",
       " 'fr_C_O_noCOO': 1,\n",
       " 'fr_C_S': 0,\n",
       " 'fr_HOCCN': 0,\n",
       " 'fr_Imine': 0,\n",
       " 'fr_NH0': 0,\n",
       " 'fr_NH1': 1,\n",
       " 'fr_NH2': 0,\n",
       " 'fr_N_O': 0,\n",
       " 'fr_Ndealkylation1': 0,\n",
       " 'fr_Ndealkylation2': 0,\n",
       " 'fr_Nhpyrrole': 0,\n",
       " 'fr_SH': 0,\n",
       " 'fr_aldehyde': 0,\n",
       " 'fr_alkyl_carbamate': 0,\n",
       " 'fr_alkyl_halide': 0,\n",
       " 'fr_allylic_oxid': 0,\n",
       " 'fr_amide': 1,\n",
       " 'fr_amidine': 0,\n",
       " 'fr_aniline': 1,\n",
       " 'fr_aryl_methyl': 0,\n",
       " 'fr_azide': 0,\n",
       " 'fr_azo': 0,\n",
       " 'fr_barbitur': 0,\n",
       " 'fr_benzene': 1,\n",
       " 'fr_benzodiazepine': 0,\n",
       " 'fr_bicyclic': 0,\n",
       " 'fr_diazo': 0,\n",
       " 'fr_dihydropyridine': 0,\n",
       " 'fr_epoxide': 0,\n",
       " 'fr_ester': 0,\n",
       " 'fr_ether': 0,\n",
       " 'fr_furan': 0,\n",
       " 'fr_guanido': 0,\n",
       " 'fr_halogen': 0,\n",
       " 'fr_hdrzine': 0,\n",
       " 'fr_hdrzone': 0,\n",
       " 'fr_imidazole': 0,\n",
       " 'fr_imide': 0,\n",
       " 'fr_isocyan': 0,\n",
       " 'fr_isothiocyan': 0,\n",
       " 'fr_ketone': 0,\n",
       " 'fr_ketone_Topliss': 0,\n",
       " 'fr_lactam': 0,\n",
       " 'fr_lactone': 0,\n",
       " 'fr_methoxy': 0,\n",
       " 'fr_morpholine': 0,\n",
       " 'fr_nitrile': 0,\n",
       " 'fr_nitro': 0,\n",
       " 'fr_nitro_arom': 0,\n",
       " 'fr_nitro_arom_nonortho': 0,\n",
       " 'fr_nitroso': 0,\n",
       " 'fr_oxazole': 0,\n",
       " 'fr_oxime': 0,\n",
       " 'fr_para_hydroxylation': 0,\n",
       " 'fr_phenol': 1,\n",
       " 'fr_phenol_noOrthoHbond': 1,\n",
       " 'fr_phos_acid': 0,\n",
       " 'fr_phos_ester': 0,\n",
       " 'fr_piperdine': 0,\n",
       " 'fr_piperzine': 0,\n",
       " 'fr_priamide': 0,\n",
       " 'fr_prisulfonamd': 0,\n",
       " 'fr_pyridine': 0,\n",
       " 'fr_quatN': 0,\n",
       " 'fr_sulfide': 0,\n",
       " 'fr_sulfonamd': 0,\n",
       " 'fr_sulfone': 0,\n",
       " 'fr_term_acetylene': 0,\n",
       " 'fr_tetrazole': 0,\n",
       " 'fr_thiazole': 0,\n",
       " 'fr_thiocyan': 0,\n",
       " 'fr_thiophene': 0,\n",
       " 'fr_unbrch_alkane': 0,\n",
       " 'fr_urea': 0}"
      ]
     },
     "execution_count": 4,
     "metadata": {},
     "output_type": "execute_result"
    }
   ],
   "source": [
    "from rdkit.Chem import Descriptors\n",
    "from rdkit.ML.Descriptors.MoleculeDescriptors import MolecularDescriptorCalculator\n",
    "\n",
    "paracetamol_mol = MolFromSmiles(paracetamol_smile)\n",
    "descriptor_names = [x[0] for x in Descriptors._descList]\n",
    "descriptor_fvalues = MolecularDescriptorCalculator(descriptor_names)\n",
    "values = descriptor_fvalues.CalcDescriptors(paracetamol_mol)\n",
    "descriptors_dict = dict(zip(descriptor_names, values))\n",
    "descriptors_dict"
   ]
  },
  {
   "cell_type": "markdown",
   "metadata": {
    "id": "SvHtYagP31vo"
   },
   "source": [
    "## Ex5: SMART\n",
    "\n",
    "In many commonly used applications, we need to determine whether atoms in a molecule match a particular pattern. It can be used for filtering structures or identifying substructures that are associated with toxicological problem.\n",
    "\n",
    "SMART us an extension of the SMILES language that can be used to create queries.\n",
    "\n",
    "1. Find molecules in the following list named \"smiles_list\" that contain the \"CCC\" pattern (you can use the GetSubstructMatch class).\n",
    "\n",
    "\n",
    "2. Highlight the pattern \"CCC\" in these molecules.\n",
    "\n",
    "\n",
    "3. Do the same thing ex 1 but for the pattern \"C(=O)N\"."
   ]
  },
  {
   "cell_type": "code",
   "execution_count": 6,
   "metadata": {
    "id": "mXqKwAO03xQi"
   },
   "outputs": [
    {
     "data": {
      "image/png": "[encoded data removed]",
      "text/plain": [
       "<IPython.core.display.Image object>"
      ]
     },
     "execution_count": 6,
     "metadata": {},
     "output_type": "execute_result"
    }
   ],
   "source": [
    "smiles_list = [ 'C', 'CC', 'CCC', 'CCCC', 'CCCCC', 'C1CCCCC1', 'CCC(=O)N' ]\n",
    "\n",
    "# 1\n",
    "selected_mols = [MolFromSmiles(smile) for smile in smiles_list]\n",
    "\n",
    "# 2\n",
    "pattern = \"CCC\"\n",
    "tmr = Chem.MolFromSmarts(pattern)\n",
    "ccc_mols = [mol for mol in selected_mols if mol.HasSubstructMatch(tmr)]\n",
    "\n",
    "\n",
    "# 3\n",
    "pattern = \"C(=O)N\"\n",
    "tmr = Chem.MolFromSmarts(pattern)\n",
    "con_mols = [mol for mol in selected_mols if mol.HasSubstructMatch(tmr)]\n",
    "Chem.Draw.MolsToGridImage(ccc_mols, molsPerRow=4) # 5"
   ]
  },
  {
   "cell_type": "code",
   "execution_count": 7,
   "metadata": {},
   "outputs": [
    {
     "data": {
      "image/png": "[encoded data removed]",
      "text/plain": [
       "<IPython.core.display.Image object>"
      ]
     },
     "execution_count": 7,
     "metadata": {},
     "output_type": "execute_result"
    }
   ],
   "source": [
    "Chem.Draw.MolsToGridImage(con_mols, molsPerRow=4) # only 1"
   ]
  },
  {
   "cell_type": "markdown",
   "metadata": {
    "id": "UxbRPmkS4LSq"
   },
   "source": [
    "## Ex6: Machine learning with RDkit - Predict solubility\n",
    "\n",
    "In this exercise, we will use machine learning to predict solubility of molecules. For this purpose, we will borrow a dataset from rdkit that is originated from the Huuskonen dataset. We will try to predict Aqueous Solubility for molecules that is known as \"logS\".\n",
    "\n",
    "\n",
    "This exercise is divided into 3 parts: Preparing a dataset, training a model and preparing dataset for prediction and applying a predictive model.\n",
    "\n"
   ]
  },
  {
   "cell_type": "markdown",
   "metadata": {
    "id": "FpqVGPg_4QaQ"
   },
   "source": [
    "## EX6.I Preparing dataset\n",
    "\n",
    "Preparing dataset requires a few steps:\n",
    "\n",
    "\n",
    "1. Download file from the following link: https://raw.githubusercontent.com/rdkit/rdkit/master/Docs/Book/data/solubility.train.sdf.\n",
    "\n",
    "\n",
    "2. With the help of rdkit.Chem.SDMolSupplier, get list of molecules contained in this file. You should call this list as **molecule_list**. The option **removeHs=False** should be chosen.\n",
    "\n",
    "\n",
    "3. Write a function named **calculate_descriptors(mol)** that allows us to calculate descriptors of a molecule. This function takes a Rdkit molecule as input and returns an array vector of descriptors.\n",
    "\n",
    "\n",
    "4. Apply the function **caluclate_descriptors** to the list of molecules **molecule_list** and store the result in a dataframe named **df**. Look at few rows of **df** to see whether the descriptors are calculated.\n",
    "\n",
    "\n",
    "5. For each molecule from this dataset, we can get the aqueous solubility (logS) via attribute **getProp('SOL')**. Create a list that contains the aqueous solubility of all molecules from the **molecule_list** list. You should call this list by **labels**. Remember to convert these values to float format.\n",
    "\n",
    "\n",
    "6. Plot the histogram of the \"labels\" list to see the distribution of the solubility of molecules. Do you have some comments about the aqueous solubility of molecules ?\n",
    "\n"
   ]
  },
  {
   "cell_type": "code",
   "execution_count": 62,
   "metadata": {},
   "outputs": [],
   "source": [
    "# 1\n",
    "# !wget https://raw.githubusercontent.com/rdkit/rdkit/master/Docs/Book/data/solubility.train.sdf"
   ]
  },
  {
   "cell_type": "code",
   "execution_count": 8,
   "metadata": {
    "id": "YKgrdNjowHCW"
   },
   "outputs": [
    {
     "name": "stdout",
     "output_type": "stream",
     "text": [
      "1025 molecules\n"
     ]
    },
    {
     "data": {
      "text/html": [
       "<div>\n",
       "<style scoped>\n",
       "    .dataframe tbody tr th:only-of-type {\n",
       "        vertical-align: middle;\n",
       "    }\n",
       "\n",
       "    .dataframe tbody tr th {\n",
       "        vertical-align: top;\n",
       "    }\n",
       "\n",
       "    .dataframe thead th {\n",
       "        text-align: right;\n",
       "    }\n",
       "</style>\n",
       "<table border=\"1\" class=\"dataframe\">\n",
       "  <thead>\n",
       "    <tr style=\"text-align: right;\">\n",
       "      <th></th>\n",
       "      <th>MaxAbsEStateIndex</th>\n",
       "      <th>MaxEStateIndex</th>\n",
       "      <th>MinAbsEStateIndex</th>\n",
       "      <th>MinEStateIndex</th>\n",
       "      <th>qed</th>\n",
       "      <th>SPS</th>\n",
       "      <th>MolWt</th>\n",
       "      <th>HeavyAtomMolWt</th>\n",
       "      <th>ExactMolWt</th>\n",
       "      <th>NumValenceElectrons</th>\n",
       "      <th>...</th>\n",
       "      <th>fr_sulfide</th>\n",
       "      <th>fr_sulfonamd</th>\n",
       "      <th>fr_sulfone</th>\n",
       "      <th>fr_term_acetylene</th>\n",
       "      <th>fr_tetrazole</th>\n",
       "      <th>fr_thiazole</th>\n",
       "      <th>fr_thiocyan</th>\n",
       "      <th>fr_thiophene</th>\n",
       "      <th>fr_unbrch_alkane</th>\n",
       "      <th>fr_urea</th>\n",
       "    </tr>\n",
       "  </thead>\n",
       "  <tbody>\n",
       "    <tr>\n",
       "      <th>0</th>\n",
       "      <td>2.211806</td>\n",
       "      <td>2.211806</td>\n",
       "      <td>1.343750</td>\n",
       "      <td>1.343750</td>\n",
       "      <td>0.468786</td>\n",
       "      <td>8.4</td>\n",
       "      <td>72.151</td>\n",
       "      <td>60.055</td>\n",
       "      <td>72.09390</td>\n",
       "      <td>32</td>\n",
       "      <td>...</td>\n",
       "      <td>0</td>\n",
       "      <td>0</td>\n",
       "      <td>0</td>\n",
       "      <td>0</td>\n",
       "      <td>0</td>\n",
       "      <td>0</td>\n",
       "      <td>0</td>\n",
       "      <td>0</td>\n",
       "      <td>2</td>\n",
       "      <td>0</td>\n",
       "    </tr>\n",
       "    <tr>\n",
       "      <th>1</th>\n",
       "      <td>1.500000</td>\n",
       "      <td>1.500000</td>\n",
       "      <td>1.500000</td>\n",
       "      <td>1.500000</td>\n",
       "      <td>0.408362</td>\n",
       "      <td>24.0</td>\n",
       "      <td>70.135</td>\n",
       "      <td>60.055</td>\n",
       "      <td>70.07825</td>\n",
       "      <td>30</td>\n",
       "      <td>...</td>\n",
       "      <td>0</td>\n",
       "      <td>0</td>\n",
       "      <td>0</td>\n",
       "      <td>0</td>\n",
       "      <td>0</td>\n",
       "      <td>0</td>\n",
       "      <td>0</td>\n",
       "      <td>0</td>\n",
       "      <td>0</td>\n",
       "      <td>0</td>\n",
       "    </tr>\n",
       "    <tr>\n",
       "      <th>2</th>\n",
       "      <td>2.231806</td>\n",
       "      <td>2.231806</td>\n",
       "      <td>1.355000</td>\n",
       "      <td>1.355000</td>\n",
       "      <td>0.462954</td>\n",
       "      <td>9.0</td>\n",
       "      <td>86.178</td>\n",
       "      <td>72.066</td>\n",
       "      <td>86.10955</td>\n",
       "      <td>38</td>\n",
       "      <td>...</td>\n",
       "      <td>0</td>\n",
       "      <td>0</td>\n",
       "      <td>0</td>\n",
       "      <td>0</td>\n",
       "      <td>0</td>\n",
       "      <td>0</td>\n",
       "      <td>0</td>\n",
       "      <td>0</td>\n",
       "      <td>3</td>\n",
       "      <td>0</td>\n",
       "    </tr>\n",
       "    <tr>\n",
       "      <th>3</th>\n",
       "      <td>2.253472</td>\n",
       "      <td>2.253472</td>\n",
       "      <td>0.898148</td>\n",
       "      <td>0.898148</td>\n",
       "      <td>0.483890</td>\n",
       "      <td>10.0</td>\n",
       "      <td>86.178</td>\n",
       "      <td>72.066</td>\n",
       "      <td>86.10955</td>\n",
       "      <td>38</td>\n",
       "      <td>...</td>\n",
       "      <td>0</td>\n",
       "      <td>0</td>\n",
       "      <td>0</td>\n",
       "      <td>0</td>\n",
       "      <td>0</td>\n",
       "      <td>0</td>\n",
       "      <td>0</td>\n",
       "      <td>0</td>\n",
       "      <td>0</td>\n",
       "      <td>0</td>\n",
       "    </tr>\n",
       "    <tr>\n",
       "      <th>4</th>\n",
       "      <td>2.243056</td>\n",
       "      <td>2.243056</td>\n",
       "      <td>0.541667</td>\n",
       "      <td>0.541667</td>\n",
       "      <td>0.424482</td>\n",
       "      <td>12.0</td>\n",
       "      <td>86.178</td>\n",
       "      <td>72.066</td>\n",
       "      <td>86.10955</td>\n",
       "      <td>38</td>\n",
       "      <td>...</td>\n",
       "      <td>0</td>\n",
       "      <td>0</td>\n",
       "      <td>0</td>\n",
       "      <td>0</td>\n",
       "      <td>0</td>\n",
       "      <td>0</td>\n",
       "      <td>0</td>\n",
       "      <td>0</td>\n",
       "      <td>0</td>\n",
       "      <td>0</td>\n",
       "    </tr>\n",
       "  </tbody>\n",
       "</table>\n",
       "<p>5 rows × 210 columns</p>\n",
       "</div>"
      ],
      "text/plain": [
       "   MaxAbsEStateIndex  MaxEStateIndex  MinAbsEStateIndex  MinEStateIndex  \\\n",
       "0           2.211806        2.211806           1.343750        1.343750   \n",
       "1           1.500000        1.500000           1.500000        1.500000   \n",
       "2           2.231806        2.231806           1.355000        1.355000   \n",
       "3           2.253472        2.253472           0.898148        0.898148   \n",
       "4           2.243056        2.243056           0.541667        0.541667   \n",
       "\n",
       "        qed   SPS   MolWt  HeavyAtomMolWt  ExactMolWt  NumValenceElectrons  \\\n",
       "0  0.468786   8.4  72.151          60.055    72.09390                   32   \n",
       "1  0.408362  24.0  70.135          60.055    70.07825                   30   \n",
       "2  0.462954   9.0  86.178          72.066    86.10955                   38   \n",
       "3  0.483890  10.0  86.178          72.066    86.10955                   38   \n",
       "4  0.424482  12.0  86.178          72.066    86.10955                   38   \n",
       "\n",
       "   ...  fr_sulfide  fr_sulfonamd  fr_sulfone  fr_term_acetylene  fr_tetrazole  \\\n",
       "0  ...           0             0           0                  0             0   \n",
       "1  ...           0             0           0                  0             0   \n",
       "2  ...           0             0           0                  0             0   \n",
       "3  ...           0             0           0                  0             0   \n",
       "4  ...           0             0           0                  0             0   \n",
       "\n",
       "   fr_thiazole  fr_thiocyan  fr_thiophene  fr_unbrch_alkane  fr_urea  \n",
       "0            0            0             0                 2        0  \n",
       "1            0            0             0                 0        0  \n",
       "2            0            0             0                 3        0  \n",
       "3            0            0             0                 0        0  \n",
       "4            0            0             0                 0        0  \n",
       "\n",
       "[5 rows x 210 columns]"
      ]
     },
     "execution_count": 8,
     "metadata": {},
     "output_type": "execute_result"
    }
   ],
   "source": [
    "# 2\n",
    "molecule_list = SDMolSupplier(\"solubility.train.sdf\", removeHs=False)\n",
    "print(len(molecule_list), \"molecules\")\n",
    "\n",
    "# 3\n",
    "def calculate_descriptors(mol):\n",
    "    descriptor_names = [x[0] for x in Descriptors._descList]\n",
    "    descriptor_fvalues = MolecularDescriptorCalculator(descriptor_names)\n",
    "    values = descriptor_fvalues.CalcDescriptors(mol)\n",
    "    descriptors_dict = dict(zip(descriptor_names, values))\n",
    "    return descriptors_dict\n",
    "# 4\n",
    "import pandas as pd\n",
    "\n",
    "df = []\n",
    "for mol in molecule_list:\n",
    "    if mol is not None:\n",
    "        df.append(calculate_descriptors(mol))\n",
    "\n",
    "df = pd.DataFrame(df)\n",
    "df.head()"
   ]
  },
  {
   "cell_type": "code",
   "execution_count": 9,
   "metadata": {},
   "outputs": [
    {
     "data": {
      "text/plain": [
       "Text(0.5, 0, 'Solubility')"
      ]
     },
     "execution_count": 9,
     "metadata": {},
     "output_type": "execute_result"
    },
    {
     "data": {
      "image/png": "[encoded data removed]",
      "text/plain": [
       "<Figure size 640x480 with 1 Axes>"
      ]
     },
     "metadata": {},
     "output_type": "display_data"
    }
   ],
   "source": [
    "# 5\n",
    "labels = [float(mol.GetProp(\"SOL\")) for mol in molecule_list if mol is not None]\n",
    "df['labels'] = labels\n",
    "\n",
    "# 6\n",
    "import matplotlib.pyplot as plt\n",
    "plt.hist(labels, bins=50)\n",
    "plt.title(\"Distribution of molecule solubility\")\n",
    "plt.ylabel(\"Number of molecules\")\n",
    "plt.xlabel(\"Solubility\")"
   ]
  },
  {
   "cell_type": "markdown",
   "metadata": {},
   "source": [
    "Looks like the solubility of molecules is normally distributed."
   ]
  },
  {
   "cell_type": "markdown",
   "metadata": {
    "id": "KRtVHEjH5M9m"
   },
   "source": [
    "## Ex6.II Feature Engineering and Training a model of regression.\n",
    "\n",
    "Now, we have the **df** dataframe that contains the descriptors for molecules and the **labels** list that contains the solvant property of molecules.\n",
    "\n",
    "1. Check the dataframe **df** to see whether it contains NaN values. How many row contained NaN values are there in the dataframe **df** ? Remove these rows from  **df** and **labels**.\n",
    "\n",
    "\n",
    "2. Apply the MinMaxScaler to the dataframe **df** to normalize the data.\n",
    "\n",
    "\n",
    "3. Construct and train a regression model.\n",
    "\n",
    "\n",
    "4. Calculate the square root error for the dataset"
   ]
  },
  {
   "cell_type": "code",
   "execution_count": 11,
   "metadata": {
    "id": "gWvfR-8x5H84"
   },
   "outputs": [
    {
     "name": "stdout",
     "output_type": "stream",
     "text": [
      "There is 12 missing NaN values in the dataset\n",
      "There is 0 missing NaN values in the dataset after removing them. (0 expected)\n",
      "Root Mean Squared Error of linear regression: 0.67\n",
      "Root Mean Squared Error of random forest: 0.65\n"
     ]
    }
   ],
   "source": [
    "# 1\n",
    "print(f\"There is {int(df.isna().sum().sum())} missing NaN values in the dataset\")\n",
    "df_no_nan = df.dropna()\n",
    "print(f\"There is {int(df_no_nan.isna().sum().sum())} missing NaN values in the dataset after removing them. (0 expected)\")\n",
    "\n",
    "# 2\n",
    "labels = df_no_nan['labels']\n",
    "df_no_nan = df_no_nan.drop(columns=['labels'])\n",
    "\n",
    "# MinMax scaling\n",
    "from sklearn.preprocessing import MinMaxScaler\n",
    "scaler = MinMaxScaler()\n",
    "df_scaled = scaler.fit_transform(df_no_nan)\n",
    "df_scaled = pd.DataFrame(df_scaled, columns=df_no_nan.columns)\n",
    "\n",
    "# 3\n",
    "from sklearn.model_selection import train_test_split\n",
    "X_train, X_test, y_train, y_test = train_test_split(df_scaled, labels, test_size=0.2, random_state=42)\n",
    "\n",
    "# 4\n",
    "from sklearn.linear_model import LinearRegression\n",
    "from sklearn.ensemble import RandomForestRegressor\n",
    "\n",
    "lin_reg = LinearRegression()\n",
    "lin_reg.fit(X_train, y_train)\n",
    "\n",
    "rf_reg = RandomForestRegressor()\n",
    "rf_reg.fit(X_train, y_train)\n",
    "\n",
    "# 4\n",
    "lin_reg_pred = lin_reg.predict(X_test)\n",
    "rf_reg_pred = rf_reg.predict(X_test)\n",
    "\n",
    "lin_rmse = np.sqrt(np.mean((lin_reg_pred - y_test) ** 2))\n",
    "rf_rmse = np.sqrt(np.mean((rf_reg_pred - y_test) ** 2))\n",
    "\n",
    "print(f\"Root Mean Squared Error of linear regression: {lin_rmse:.2f}\")\n",
    "print(f\"Root Mean Squared Error of random forest: {rf_rmse:.2f}\")"
   ]
  },
  {
   "cell_type": "markdown",
   "metadata": {
    "id": "kESW-Pem5zPX"
   },
   "source": [
    "## Ex6.III Prepare data for test  and test model\n",
    "\n",
    "\n",
    "1. Download file from : https://github.com/rdkit/rdkit/blob/master/Docs/Book/data/solubility.test.sdf\n",
    "\n",
    "2. Read molecules from this file and store them in a list named **list_molecule_test**.\n",
    "\n",
    "\n",
    "3. Take a molecule from the **list_molecule_test** and then calculate its descriptions thank to the **calculate_descriptors(mol)** function that you've coded above.\n",
    "\n",
    "\n",
    "4. Apply **minmaxscaler** to these descriptors. Note that **minmaxscaler**  is one that you've created at Ex6.II.\n",
    "\n",
    "\n",
    "5. Use the model that you've trained to predict the aqueous solubility (logS) of the molecule. Compare to the real logS value of the molecule.\n",
    "\n",
    "6. (Optional) Calculate the mean square root error of the model for this dataset.\n",
    "\n",
    "\n",
    "\n",
    "Note: If there exists problem of reading the file solubility.test.sdf as\n",
    "\"RDKit ERROR: [09:28:36] ERROR: moving to the beginning of the next molecule\n",
    "RDKit ERROR: [09:32:48] ERROR: Counts line too short: '' on line4\"\n",
    "so, go to the url, click \"raw\" and save this file by hand. The error will be gone away\n"
   ]
  },
  {
   "cell_type": "code",
   "execution_count": 173,
   "metadata": {
    "id": "SMo-oKP-Rhv-"
   },
   "outputs": [],
   "source": [
    "# 1\n",
    "# !wget https://github.com/rdkit/rdkit/blob/master/Docs/Book/data/solubility.test.sdf"
   ]
  },
  {
   "cell_type": "code",
   "execution_count": 25,
   "metadata": {},
   "outputs": [
    {
     "name": "stdout",
     "output_type": "stream",
     "text": [
      "Root Mean Squared Error on the test set: 1.16\n"
     ]
    }
   ],
   "source": [
    "# 2\n",
    "list_molecule_test = SDMolSupplier(\"solubility.test.sdf\", removeHs=False)\n",
    "\n",
    "# 3\n",
    "df_test = []\n",
    "for mol in list_molecule_test:\n",
    "    if mol is not None:\n",
    "        df_test.append(calculate_descriptors(mol))\n",
    "\n",
    "df_test = pd.DataFrame(df_test)\n",
    "\n",
    "# 4\n",
    "df_test_scaled = scaler.transform(df_test)\n",
    "df_test_scaled = pd.DataFrame(df_test_scaled, columns=df_test.columns)\n",
    "\n",
    "test_labels = [float(mol.GetProp(\"SOL\")) for mol in list_molecule_test if mol is not None]\n",
    "\n",
    "# 5\n",
    "y_pred_test = lin_reg.predict(df_test_scaled)\n",
    "\n",
    "# 6\n",
    "rmse_test = np.sqrt(np.mean((y_pred_test - test_labels) ** 2))\n",
    "print(f\"Root Mean Squared Error on the test set: {rmse_test:.2f}\")"
   ]
  },
  {
   "cell_type": "code",
   "execution_count": 26,
   "metadata": {},
   "outputs": [
    {
     "data": {
      "text/plain": [
       "([-3.68, -4.26, -2.68, -2.59, -2.09, -2.15, -3.66, -2.77, -3.4, -3.04],\n",
       " array([-3.36367612, -3.77454853, -2.62412389, -2.74519073, -1.49300597,\n",
       "        -2.78724428, -3.51604537, -3.04817095, -3.42315173, -3.63980947]))"
      ]
     },
     "execution_count": 26,
     "metadata": {},
     "output_type": "execute_result"
    }
   ],
   "source": [
    "test_labels[:10], y_pred_test[:10]"
   ]
  }
 ],
 "metadata": {
  "colab": {
   "provenance": []
  },
  "kernelspec": {
   "display_name": "mlbio",
   "language": "python",
   "name": "python3"
  },
  "language_info": {
   "codemirror_mode": {
    "name": "ipython",
    "version": 3
   },
   "file_extension": ".py",
   "mimetype": "text/x-python",
   "name": "python",
   "nbconvert_exporter": "python",
   "pygments_lexer": "ipython3",
   "version": "3.11.8"
  }
 },
 "nbformat": 4,
 "nbformat_minor": 0
}
